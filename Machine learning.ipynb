{
 "cells": [
  {
   "cell_type": "code",
   "execution_count": 1,
   "metadata": {
    "collapsed": true
   },
   "outputs": [],
   "source": [
    "import pandas as pd\n",
    "import numpy as np\n",
    "import matplotlib.pyplot as plt\n",
    "%matplotlib inline"
   ]
  },
  {
   "cell_type": "code",
   "execution_count": 2,
   "metadata": {
    "collapsed": false
   },
   "outputs": [],
   "source": [
    "vtrain = pd.read_csv('violin-train.csv')"
   ]
  },
  {
   "cell_type": "code",
   "execution_count": 52,
   "metadata": {
    "collapsed": false
   },
   "outputs": [
    {
     "data": {
      "text/plain": [
       "<matplotlib.axes._subplots.AxesSubplot at 0x10e076f10>"
      ]
     },
     "execution_count": 52,
     "metadata": {},
     "output_type": "execute_result"
    },
    {
     "data": {
      "image/png": "[encoded data removed]",
      "text/plain": [
       "<matplotlib.figure.Figure at 0x10e0762d0>"
      ]
     },
     "metadata": {},
     "output_type": "display_data"
    }
   ],
   "source": [
    "vtrain.loc[[6,4]].T.plot()"
   ]
  },
  {
   "cell_type": "code",
   "execution_count": 4,
   "metadata": {
    "collapsed": true
   },
   "outputs": [],
   "source": [
    "vtrain['label']=1\n"
   ]
  },
  {
   "cell_type": "code",
   "execution_count": 5,
   "metadata": {
    "collapsed": false
   },
   "outputs": [
    {
     "data": {
      "text/html": [
       "<div>\n",
       "<table border=\"1\" class=\"dataframe\">\n",
       "  <thead>\n",
       "    <tr style=\"text-align: right;\">\n",
       "      <th></th>\n",
       "      <th>1.0</th>\n",
       "      <th>2.0</th>\n",
       "      <th>3.0</th>\n",
       "      <th>4.0</th>\n",
       "      <th>5.0</th>\n",
       "      <th>6.0</th>\n",
       "      <th>7.0</th>\n",
       "      <th>8.0</th>\n",
       "      <th>9.0</th>\n",
       "      <th>10.0</th>\n",
       "      <th>...</th>\n",
       "      <th>249.0</th>\n",
       "      <th>250.0</th>\n",
       "      <th>251.0</th>\n",
       "      <th>252.0</th>\n",
       "      <th>253.0</th>\n",
       "      <th>254.0</th>\n",
       "      <th>255.0</th>\n",
       "      <th>256.0</th>\n",
       "      <th>257.0</th>\n",
       "      <th>label</th>\n",
       "    </tr>\n",
       "  </thead>\n",
       "  <tbody>\n",
       "    <tr>\n",
       "      <th>0</th>\n",
       "      <td>-79.6</td>\n",
       "      <td>-71.1</td>\n",
       "      <td>-68.6</td>\n",
       "      <td>-91.4</td>\n",
       "      <td>-71.8</td>\n",
       "      <td>-84.8</td>\n",
       "      <td>-81.3</td>\n",
       "      <td>-76.1</td>\n",
       "      <td>-73.7</td>\n",
       "      <td>-76.5</td>\n",
       "      <td>...</td>\n",
       "      <td>-113.3</td>\n",
       "      <td>-119.9</td>\n",
       "      <td>-119.8</td>\n",
       "      <td>-116.4</td>\n",
       "      <td>-113.5</td>\n",
       "      <td>-119.7</td>\n",
       "      <td>-129.3</td>\n",
       "      <td>-122.0</td>\n",
       "      <td>-123.3</td>\n",
       "      <td>1</td>\n",
       "    </tr>\n",
       "    <tr>\n",
       "      <th>1</th>\n",
       "      <td>-87.1</td>\n",
       "      <td>-86.8</td>\n",
       "      <td>-72.2</td>\n",
       "      <td>-77.5</td>\n",
       "      <td>-78.2</td>\n",
       "      <td>-77.4</td>\n",
       "      <td>-66.6</td>\n",
       "      <td>-71.8</td>\n",
       "      <td>-78.6</td>\n",
       "      <td>-73.2</td>\n",
       "      <td>...</td>\n",
       "      <td>-116.2</td>\n",
       "      <td>-113.9</td>\n",
       "      <td>-120.2</td>\n",
       "      <td>-117.1</td>\n",
       "      <td>-115.4</td>\n",
       "      <td>-119.6</td>\n",
       "      <td>-123.2</td>\n",
       "      <td>-125.9</td>\n",
       "      <td>-127.4</td>\n",
       "      <td>1</td>\n",
       "    </tr>\n",
       "    <tr>\n",
       "      <th>2</th>\n",
       "      <td>-97.2</td>\n",
       "      <td>-82.6</td>\n",
       "      <td>-75.1</td>\n",
       "      <td>-83.1</td>\n",
       "      <td>-75.4</td>\n",
       "      <td>-69.9</td>\n",
       "      <td>-63.8</td>\n",
       "      <td>-57.9</td>\n",
       "      <td>-61.3</td>\n",
       "      <td>-65.7</td>\n",
       "      <td>...</td>\n",
       "      <td>-116.0</td>\n",
       "      <td>-118.6</td>\n",
       "      <td>-124.2</td>\n",
       "      <td>-116.4</td>\n",
       "      <td>-121.9</td>\n",
       "      <td>-119.9</td>\n",
       "      <td>-114.5</td>\n",
       "      <td>-115.3</td>\n",
       "      <td>-121.0</td>\n",
       "      <td>1</td>\n",
       "    </tr>\n",
       "    <tr>\n",
       "      <th>3</th>\n",
       "      <td>-96.2</td>\n",
       "      <td>-70.4</td>\n",
       "      <td>-70.5</td>\n",
       "      <td>-70.6</td>\n",
       "      <td>-65.4</td>\n",
       "      <td>-63.1</td>\n",
       "      <td>-36.4</td>\n",
       "      <td>-28.4</td>\n",
       "      <td>-33.8</td>\n",
       "      <td>-58.5</td>\n",
       "      <td>...</td>\n",
       "      <td>-93.4</td>\n",
       "      <td>-94.1</td>\n",
       "      <td>-93.1</td>\n",
       "      <td>-94.2</td>\n",
       "      <td>-93.1</td>\n",
       "      <td>-93.8</td>\n",
       "      <td>-93.7</td>\n",
       "      <td>-94.0</td>\n",
       "      <td>-92.9</td>\n",
       "      <td>1</td>\n",
       "    </tr>\n",
       "    <tr>\n",
       "      <th>4</th>\n",
       "      <td>-80.7</td>\n",
       "      <td>-74.9</td>\n",
       "      <td>-65.1</td>\n",
       "      <td>-68.5</td>\n",
       "      <td>-79.7</td>\n",
       "      <td>-57.5</td>\n",
       "      <td>-40.9</td>\n",
       "      <td>-33.8</td>\n",
       "      <td>-40.9</td>\n",
       "      <td>-57.7</td>\n",
       "      <td>...</td>\n",
       "      <td>-106.4</td>\n",
       "      <td>-102.9</td>\n",
       "      <td>-104.5</td>\n",
       "      <td>-103.7</td>\n",
       "      <td>-104.3</td>\n",
       "      <td>-105.3</td>\n",
       "      <td>-101.8</td>\n",
       "      <td>-105.4</td>\n",
       "      <td>-104.2</td>\n",
       "      <td>1</td>\n",
       "    </tr>\n",
       "  </tbody>\n",
       "</table>\n",
       "<p>5 rows × 258 columns</p>\n",
       "</div>"
      ],
      "text/plain": [
       "    1.0   2.0   3.0   4.0   5.0   6.0   7.0   8.0   9.0  10.0  ...    249.0  \\\n",
       "0 -79.6 -71.1 -68.6 -91.4 -71.8 -84.8 -81.3 -76.1 -73.7 -76.5  ...   -113.3   \n",
       "1 -87.1 -86.8 -72.2 -77.5 -78.2 -77.4 -66.6 -71.8 -78.6 -73.2  ...   -116.2   \n",
       "2 -97.2 -82.6 -75.1 -83.1 -75.4 -69.9 -63.8 -57.9 -61.3 -65.7  ...   -116.0   \n",
       "3 -96.2 -70.4 -70.5 -70.6 -65.4 -63.1 -36.4 -28.4 -33.8 -58.5  ...    -93.4   \n",
       "4 -80.7 -74.9 -65.1 -68.5 -79.7 -57.5 -40.9 -33.8 -40.9 -57.7  ...   -106.4   \n",
       "\n",
       "   250.0  251.0  252.0  253.0  254.0  255.0  256.0  257.0  label  \n",
       "0 -119.9 -119.8 -116.4 -113.5 -119.7 -129.3 -122.0 -123.3      1  \n",
       "1 -113.9 -120.2 -117.1 -115.4 -119.6 -123.2 -125.9 -127.4      1  \n",
       "2 -118.6 -124.2 -116.4 -121.9 -119.9 -114.5 -115.3 -121.0      1  \n",
       "3  -94.1  -93.1  -94.2  -93.1  -93.8  -93.7  -94.0  -92.9      1  \n",
       "4 -102.9 -104.5 -103.7 -104.3 -105.3 -101.8 -105.4 -104.2      1  \n",
       "\n",
       "[5 rows x 258 columns]"
      ]
     },
     "execution_count": 5,
     "metadata": {},
     "output_type": "execute_result"
    }
   ],
   "source": [
    "vtrain.head()"
   ]
  },
  {
   "cell_type": "code",
   "execution_count": 6,
   "metadata": {
    "collapsed": true
   },
   "outputs": [],
   "source": [
    "ftrain = pd.read_csv('flute-train.csv')"
   ]
  },
  {
   "cell_type": "code",
   "execution_count": 7,
   "metadata": {
    "collapsed": false
   },
   "outputs": [
    {
     "data": {
      "text/html": [
       "<div>\n",
       "<table border=\"1\" class=\"dataframe\">\n",
       "  <thead>\n",
       "    <tr style=\"text-align: right;\">\n",
       "      <th></th>\n",
       "      <th>1.0</th>\n",
       "      <th>2.0</th>\n",
       "      <th>3.0</th>\n",
       "      <th>4.0</th>\n",
       "      <th>5.0</th>\n",
       "      <th>6.0</th>\n",
       "      <th>7.0</th>\n",
       "      <th>8.0</th>\n",
       "      <th>9.0</th>\n",
       "      <th>10.0</th>\n",
       "      <th>...</th>\n",
       "      <th>248.0</th>\n",
       "      <th>249.0</th>\n",
       "      <th>250.0</th>\n",
       "      <th>251.0</th>\n",
       "      <th>252.0</th>\n",
       "      <th>253.0</th>\n",
       "      <th>254.0</th>\n",
       "      <th>255.0</th>\n",
       "      <th>256.0</th>\n",
       "      <th>257.0</th>\n",
       "    </tr>\n",
       "  </thead>\n",
       "  <tbody>\n",
       "    <tr>\n",
       "      <th>0</th>\n",
       "      <td>-81.1</td>\n",
       "      <td>-76.8</td>\n",
       "      <td>-85.0</td>\n",
       "      <td>-78.8</td>\n",
       "      <td>-83.2</td>\n",
       "      <td>-84.7</td>\n",
       "      <td>-72.6</td>\n",
       "      <td>-78.5</td>\n",
       "      <td>-78.4</td>\n",
       "      <td>-72.6</td>\n",
       "      <td>...</td>\n",
       "      <td>-101.4</td>\n",
       "      <td>-90.9</td>\n",
       "      <td>-91.0</td>\n",
       "      <td>-97.3</td>\n",
       "      <td>-100.8</td>\n",
       "      <td>-102.0</td>\n",
       "      <td>-115.6</td>\n",
       "      <td>-101.2</td>\n",
       "      <td>-107.3</td>\n",
       "      <td>-109.1</td>\n",
       "    </tr>\n",
       "    <tr>\n",
       "      <th>1</th>\n",
       "      <td>-69.6</td>\n",
       "      <td>-64.0</td>\n",
       "      <td>-66.3</td>\n",
       "      <td>-65.9</td>\n",
       "      <td>-65.4</td>\n",
       "      <td>-64.9</td>\n",
       "      <td>-60.8</td>\n",
       "      <td>-70.9</td>\n",
       "      <td>-61.9</td>\n",
       "      <td>-67.0</td>\n",
       "      <td>...</td>\n",
       "      <td>-92.4</td>\n",
       "      <td>-90.3</td>\n",
       "      <td>-93.4</td>\n",
       "      <td>-86.7</td>\n",
       "      <td>-90.2</td>\n",
       "      <td>-90.2</td>\n",
       "      <td>-87.9</td>\n",
       "      <td>-93.1</td>\n",
       "      <td>-90.9</td>\n",
       "      <td>-88.4</td>\n",
       "    </tr>\n",
       "    <tr>\n",
       "      <th>2</th>\n",
       "      <td>-65.0</td>\n",
       "      <td>-61.9</td>\n",
       "      <td>-66.1</td>\n",
       "      <td>-66.9</td>\n",
       "      <td>-68.3</td>\n",
       "      <td>-33.4</td>\n",
       "      <td>-22.1</td>\n",
       "      <td>-26.1</td>\n",
       "      <td>-51.0</td>\n",
       "      <td>-75.7</td>\n",
       "      <td>...</td>\n",
       "      <td>-87.1</td>\n",
       "      <td>-89.8</td>\n",
       "      <td>-92.3</td>\n",
       "      <td>-90.4</td>\n",
       "      <td>-88.8</td>\n",
       "      <td>-86.0</td>\n",
       "      <td>-86.8</td>\n",
       "      <td>-90.1</td>\n",
       "      <td>-86.8</td>\n",
       "      <td>-99.8</td>\n",
       "    </tr>\n",
       "    <tr>\n",
       "      <th>3</th>\n",
       "      <td>-59.4</td>\n",
       "      <td>-74.8</td>\n",
       "      <td>-64.6</td>\n",
       "      <td>-66.4</td>\n",
       "      <td>-71.2</td>\n",
       "      <td>-32.1</td>\n",
       "      <td>-21.9</td>\n",
       "      <td>-26.8</td>\n",
       "      <td>-54.7</td>\n",
       "      <td>-79.1</td>\n",
       "      <td>...</td>\n",
       "      <td>-86.8</td>\n",
       "      <td>-86.2</td>\n",
       "      <td>-86.5</td>\n",
       "      <td>-86.4</td>\n",
       "      <td>-85.5</td>\n",
       "      <td>-86.8</td>\n",
       "      <td>-87.6</td>\n",
       "      <td>-85.2</td>\n",
       "      <td>-85.8</td>\n",
       "      <td>-90.2</td>\n",
       "    </tr>\n",
       "    <tr>\n",
       "      <th>4</th>\n",
       "      <td>-67.4</td>\n",
       "      <td>-71.6</td>\n",
       "      <td>-77.9</td>\n",
       "      <td>-82.3</td>\n",
       "      <td>-66.4</td>\n",
       "      <td>-33.3</td>\n",
       "      <td>-23.6</td>\n",
       "      <td>-28.7</td>\n",
       "      <td>-58.4</td>\n",
       "      <td>-76.9</td>\n",
       "      <td>...</td>\n",
       "      <td>-98.6</td>\n",
       "      <td>-103.3</td>\n",
       "      <td>-96.3</td>\n",
       "      <td>-94.4</td>\n",
       "      <td>-92.5</td>\n",
       "      <td>-94.4</td>\n",
       "      <td>-110.3</td>\n",
       "      <td>-100.1</td>\n",
       "      <td>-98.9</td>\n",
       "      <td>-104.0</td>\n",
       "    </tr>\n",
       "  </tbody>\n",
       "</table>\n",
       "<p>5 rows × 257 columns</p>\n",
       "</div>"
      ],
      "text/plain": [
       "    1.0   2.0   3.0   4.0   5.0   6.0   7.0   8.0   9.0  10.0  ...    248.0  \\\n",
       "0 -81.1 -76.8 -85.0 -78.8 -83.2 -84.7 -72.6 -78.5 -78.4 -72.6  ...   -101.4   \n",
       "1 -69.6 -64.0 -66.3 -65.9 -65.4 -64.9 -60.8 -70.9 -61.9 -67.0  ...    -92.4   \n",
       "2 -65.0 -61.9 -66.1 -66.9 -68.3 -33.4 -22.1 -26.1 -51.0 -75.7  ...    -87.1   \n",
       "3 -59.4 -74.8 -64.6 -66.4 -71.2 -32.1 -21.9 -26.8 -54.7 -79.1  ...    -86.8   \n",
       "4 -67.4 -71.6 -77.9 -82.3 -66.4 -33.3 -23.6 -28.7 -58.4 -76.9  ...    -98.6   \n",
       "\n",
       "   249.0  250.0  251.0  252.0  253.0  254.0  255.0  256.0  257.0  \n",
       "0  -90.9  -91.0  -97.3 -100.8 -102.0 -115.6 -101.2 -107.3 -109.1  \n",
       "1  -90.3  -93.4  -86.7  -90.2  -90.2  -87.9  -93.1  -90.9  -88.4  \n",
       "2  -89.8  -92.3  -90.4  -88.8  -86.0  -86.8  -90.1  -86.8  -99.8  \n",
       "3  -86.2  -86.5  -86.4  -85.5  -86.8  -87.6  -85.2  -85.8  -90.2  \n",
       "4 -103.3  -96.3  -94.4  -92.5  -94.4 -110.3 -100.1  -98.9 -104.0  \n",
       "\n",
       "[5 rows x 257 columns]"
      ]
     },
     "execution_count": 7,
     "metadata": {},
     "output_type": "execute_result"
    }
   ],
   "source": [
    "ftrain.head()"
   ]
  },
  {
   "cell_type": "code",
   "execution_count": 83,
   "metadata": {
    "collapsed": false
   },
   "outputs": [
    {
     "data": {
      "text/plain": [
       "<matplotlib.axes._subplots.AxesSubplot at 0x10efe12d0>"
      ]
     },
     "execution_count": 83,
     "metadata": {},
     "output_type": "execute_result"
    },
    {
     "data": {
      "image/png": "[encoded data removed]",
      "text/plain": [
       "<matplotlib.figure.Figure at 0x10efd8c90>"
      ]
     },
     "metadata": {},
     "output_type": "display_data"
    }
   ],
   "source": [
    "ftrain.loc[[20,10]].T.plot()"
   ]
  },
  {
   "cell_type": "code",
   "execution_count": 9,
   "metadata": {
    "collapsed": true
   },
   "outputs": [],
   "source": [
    "ftrain['label']=0"
   ]
  },
  {
   "cell_type": "code",
   "execution_count": 10,
   "metadata": {
    "collapsed": true
   },
   "outputs": [],
   "source": [
    "traindata = pd.concat([ftrain,vtrain],ignore_index=True)"
   ]
  },
  {
   "cell_type": "code",
   "execution_count": 11,
   "metadata": {
    "collapsed": false
   },
   "outputs": [
    {
     "data": {
      "text/html": [
       "<div>\n",
       "<table border=\"1\" class=\"dataframe\">\n",
       "  <thead>\n",
       "    <tr style=\"text-align: right;\">\n",
       "      <th></th>\n",
       "      <th>1.0</th>\n",
       "      <th>2.0</th>\n",
       "      <th>3.0</th>\n",
       "      <th>4.0</th>\n",
       "      <th>5.0</th>\n",
       "      <th>6.0</th>\n",
       "      <th>7.0</th>\n",
       "      <th>8.0</th>\n",
       "      <th>9.0</th>\n",
       "      <th>10.0</th>\n",
       "      <th>...</th>\n",
       "      <th>249.0</th>\n",
       "      <th>250.0</th>\n",
       "      <th>251.0</th>\n",
       "      <th>252.0</th>\n",
       "      <th>253.0</th>\n",
       "      <th>254.0</th>\n",
       "      <th>255.0</th>\n",
       "      <th>256.0</th>\n",
       "      <th>257.0</th>\n",
       "      <th>label</th>\n",
       "    </tr>\n",
       "  </thead>\n",
       "  <tbody>\n",
       "    <tr>\n",
       "      <th>0</th>\n",
       "      <td>-81.1</td>\n",
       "      <td>-76.8</td>\n",
       "      <td>-85.0</td>\n",
       "      <td>-78.8</td>\n",
       "      <td>-83.2</td>\n",
       "      <td>-84.7</td>\n",
       "      <td>-72.6</td>\n",
       "      <td>-78.5</td>\n",
       "      <td>-78.4</td>\n",
       "      <td>-72.6</td>\n",
       "      <td>...</td>\n",
       "      <td>-90.9</td>\n",
       "      <td>-91.0</td>\n",
       "      <td>-97.3</td>\n",
       "      <td>-100.8</td>\n",
       "      <td>-102.0</td>\n",
       "      <td>-115.6</td>\n",
       "      <td>-101.2</td>\n",
       "      <td>-107.3</td>\n",
       "      <td>-109.1</td>\n",
       "      <td>0</td>\n",
       "    </tr>\n",
       "    <tr>\n",
       "      <th>1</th>\n",
       "      <td>-69.6</td>\n",
       "      <td>-64.0</td>\n",
       "      <td>-66.3</td>\n",
       "      <td>-65.9</td>\n",
       "      <td>-65.4</td>\n",
       "      <td>-64.9</td>\n",
       "      <td>-60.8</td>\n",
       "      <td>-70.9</td>\n",
       "      <td>-61.9</td>\n",
       "      <td>-67.0</td>\n",
       "      <td>...</td>\n",
       "      <td>-90.3</td>\n",
       "      <td>-93.4</td>\n",
       "      <td>-86.7</td>\n",
       "      <td>-90.2</td>\n",
       "      <td>-90.2</td>\n",
       "      <td>-87.9</td>\n",
       "      <td>-93.1</td>\n",
       "      <td>-90.9</td>\n",
       "      <td>-88.4</td>\n",
       "      <td>0</td>\n",
       "    </tr>\n",
       "    <tr>\n",
       "      <th>2</th>\n",
       "      <td>-65.0</td>\n",
       "      <td>-61.9</td>\n",
       "      <td>-66.1</td>\n",
       "      <td>-66.9</td>\n",
       "      <td>-68.3</td>\n",
       "      <td>-33.4</td>\n",
       "      <td>-22.1</td>\n",
       "      <td>-26.1</td>\n",
       "      <td>-51.0</td>\n",
       "      <td>-75.7</td>\n",
       "      <td>...</td>\n",
       "      <td>-89.8</td>\n",
       "      <td>-92.3</td>\n",
       "      <td>-90.4</td>\n",
       "      <td>-88.8</td>\n",
       "      <td>-86.0</td>\n",
       "      <td>-86.8</td>\n",
       "      <td>-90.1</td>\n",
       "      <td>-86.8</td>\n",
       "      <td>-99.8</td>\n",
       "      <td>0</td>\n",
       "    </tr>\n",
       "    <tr>\n",
       "      <th>3</th>\n",
       "      <td>-59.4</td>\n",
       "      <td>-74.8</td>\n",
       "      <td>-64.6</td>\n",
       "      <td>-66.4</td>\n",
       "      <td>-71.2</td>\n",
       "      <td>-32.1</td>\n",
       "      <td>-21.9</td>\n",
       "      <td>-26.8</td>\n",
       "      <td>-54.7</td>\n",
       "      <td>-79.1</td>\n",
       "      <td>...</td>\n",
       "      <td>-86.2</td>\n",
       "      <td>-86.5</td>\n",
       "      <td>-86.4</td>\n",
       "      <td>-85.5</td>\n",
       "      <td>-86.8</td>\n",
       "      <td>-87.6</td>\n",
       "      <td>-85.2</td>\n",
       "      <td>-85.8</td>\n",
       "      <td>-90.2</td>\n",
       "      <td>0</td>\n",
       "    </tr>\n",
       "    <tr>\n",
       "      <th>4</th>\n",
       "      <td>-67.4</td>\n",
       "      <td>-71.6</td>\n",
       "      <td>-77.9</td>\n",
       "      <td>-82.3</td>\n",
       "      <td>-66.4</td>\n",
       "      <td>-33.3</td>\n",
       "      <td>-23.6</td>\n",
       "      <td>-28.7</td>\n",
       "      <td>-58.4</td>\n",
       "      <td>-76.9</td>\n",
       "      <td>...</td>\n",
       "      <td>-103.3</td>\n",
       "      <td>-96.3</td>\n",
       "      <td>-94.4</td>\n",
       "      <td>-92.5</td>\n",
       "      <td>-94.4</td>\n",
       "      <td>-110.3</td>\n",
       "      <td>-100.1</td>\n",
       "      <td>-98.9</td>\n",
       "      <td>-104.0</td>\n",
       "      <td>0</td>\n",
       "    </tr>\n",
       "  </tbody>\n",
       "</table>\n",
       "<p>5 rows × 258 columns</p>\n",
       "</div>"
      ],
      "text/plain": [
       "    1.0   2.0   3.0   4.0   5.0   6.0   7.0   8.0   9.0  10.0  ...    249.0  \\\n",
       "0 -81.1 -76.8 -85.0 -78.8 -83.2 -84.7 -72.6 -78.5 -78.4 -72.6  ...    -90.9   \n",
       "1 -69.6 -64.0 -66.3 -65.9 -65.4 -64.9 -60.8 -70.9 -61.9 -67.0  ...    -90.3   \n",
       "2 -65.0 -61.9 -66.1 -66.9 -68.3 -33.4 -22.1 -26.1 -51.0 -75.7  ...    -89.8   \n",
       "3 -59.4 -74.8 -64.6 -66.4 -71.2 -32.1 -21.9 -26.8 -54.7 -79.1  ...    -86.2   \n",
       "4 -67.4 -71.6 -77.9 -82.3 -66.4 -33.3 -23.6 -28.7 -58.4 -76.9  ...   -103.3   \n",
       "\n",
       "   250.0  251.0  252.0  253.0  254.0  255.0  256.0  257.0  label  \n",
       "0  -91.0  -97.3 -100.8 -102.0 -115.6 -101.2 -107.3 -109.1      0  \n",
       "1  -93.4  -86.7  -90.2  -90.2  -87.9  -93.1  -90.9  -88.4      0  \n",
       "2  -92.3  -90.4  -88.8  -86.0  -86.8  -90.1  -86.8  -99.8      0  \n",
       "3  -86.5  -86.4  -85.5  -86.8  -87.6  -85.2  -85.8  -90.2      0  \n",
       "4  -96.3  -94.4  -92.5  -94.4 -110.3 -100.1  -98.9 -104.0      0  \n",
       "\n",
       "[5 rows x 258 columns]"
      ]
     },
     "execution_count": 11,
     "metadata": {},
     "output_type": "execute_result"
    }
   ],
   "source": [
    "traindata.head()"
   ]
  },
  {
   "cell_type": "code",
   "execution_count": 12,
   "metadata": {
    "collapsed": false
   },
   "outputs": [
    {
     "data": {
      "text/html": [
       "<div>\n",
       "<table border=\"1\" class=\"dataframe\">\n",
       "  <thead>\n",
       "    <tr style=\"text-align: right;\">\n",
       "      <th></th>\n",
       "      <th>1.0</th>\n",
       "      <th>2.0</th>\n",
       "      <th>3.0</th>\n",
       "      <th>4.0</th>\n",
       "      <th>5.0</th>\n",
       "      <th>6.0</th>\n",
       "      <th>7.0</th>\n",
       "      <th>8.0</th>\n",
       "      <th>9.0</th>\n",
       "      <th>10.0</th>\n",
       "      <th>...</th>\n",
       "      <th>249.0</th>\n",
       "      <th>250.0</th>\n",
       "      <th>251.0</th>\n",
       "      <th>252.0</th>\n",
       "      <th>253.0</th>\n",
       "      <th>254.0</th>\n",
       "      <th>255.0</th>\n",
       "      <th>256.0</th>\n",
       "      <th>257.0</th>\n",
       "      <th>label</th>\n",
       "    </tr>\n",
       "  </thead>\n",
       "  <tbody>\n",
       "    <tr>\n",
       "      <th>158</th>\n",
       "      <td>-73.8</td>\n",
       "      <td>-69.3</td>\n",
       "      <td>-72.0</td>\n",
       "      <td>-72.9</td>\n",
       "      <td>-52.7</td>\n",
       "      <td>-45.7</td>\n",
       "      <td>-39.9</td>\n",
       "      <td>-40.5</td>\n",
       "      <td>-44.1</td>\n",
       "      <td>-47.8</td>\n",
       "      <td>...</td>\n",
       "      <td>-103.6</td>\n",
       "      <td>-103.8</td>\n",
       "      <td>-105.0</td>\n",
       "      <td>-103.5</td>\n",
       "      <td>-104.0</td>\n",
       "      <td>-104.5</td>\n",
       "      <td>-104.1</td>\n",
       "      <td>-103.7</td>\n",
       "      <td>-103.5</td>\n",
       "      <td>1</td>\n",
       "    </tr>\n",
       "    <tr>\n",
       "      <th>159</th>\n",
       "      <td>-67.6</td>\n",
       "      <td>-74.4</td>\n",
       "      <td>-65.4</td>\n",
       "      <td>-62.3</td>\n",
       "      <td>-63.8</td>\n",
       "      <td>-57.2</td>\n",
       "      <td>-41.9</td>\n",
       "      <td>-36.8</td>\n",
       "      <td>-43.5</td>\n",
       "      <td>-57.1</td>\n",
       "      <td>...</td>\n",
       "      <td>-95.6</td>\n",
       "      <td>-96.6</td>\n",
       "      <td>-96.8</td>\n",
       "      <td>-94.4</td>\n",
       "      <td>-95.8</td>\n",
       "      <td>-96.9</td>\n",
       "      <td>-95.2</td>\n",
       "      <td>-95.5</td>\n",
       "      <td>-96.5</td>\n",
       "      <td>1</td>\n",
       "    </tr>\n",
       "    <tr>\n",
       "      <th>160</th>\n",
       "      <td>-67.9</td>\n",
       "      <td>-66.5</td>\n",
       "      <td>-71.4</td>\n",
       "      <td>-61.0</td>\n",
       "      <td>-64.7</td>\n",
       "      <td>-61.8</td>\n",
       "      <td>-49.6</td>\n",
       "      <td>-44.9</td>\n",
       "      <td>-44.4</td>\n",
       "      <td>-55.2</td>\n",
       "      <td>...</td>\n",
       "      <td>-96.3</td>\n",
       "      <td>-95.1</td>\n",
       "      <td>-96.5</td>\n",
       "      <td>-95.7</td>\n",
       "      <td>-96.0</td>\n",
       "      <td>-96.2</td>\n",
       "      <td>-95.7</td>\n",
       "      <td>-96.1</td>\n",
       "      <td>-95.8</td>\n",
       "      <td>1</td>\n",
       "    </tr>\n",
       "    <tr>\n",
       "      <th>161</th>\n",
       "      <td>-81.8</td>\n",
       "      <td>-84.6</td>\n",
       "      <td>-71.3</td>\n",
       "      <td>-62.5</td>\n",
       "      <td>-63.2</td>\n",
       "      <td>-68.6</td>\n",
       "      <td>-55.3</td>\n",
       "      <td>-49.8</td>\n",
       "      <td>-53.0</td>\n",
       "      <td>-71.5</td>\n",
       "      <td>...</td>\n",
       "      <td>-115.8</td>\n",
       "      <td>-123.8</td>\n",
       "      <td>-117.5</td>\n",
       "      <td>-111.0</td>\n",
       "      <td>-120.0</td>\n",
       "      <td>-121.7</td>\n",
       "      <td>-117.5</td>\n",
       "      <td>-114.4</td>\n",
       "      <td>-126.8</td>\n",
       "      <td>1</td>\n",
       "    </tr>\n",
       "    <tr>\n",
       "      <th>162</th>\n",
       "      <td>-89.8</td>\n",
       "      <td>-71.3</td>\n",
       "      <td>-64.1</td>\n",
       "      <td>-59.3</td>\n",
       "      <td>-61.6</td>\n",
       "      <td>-73.3</td>\n",
       "      <td>-72.5</td>\n",
       "      <td>-67.5</td>\n",
       "      <td>-64.9</td>\n",
       "      <td>-67.2</td>\n",
       "      <td>...</td>\n",
       "      <td>-112.2</td>\n",
       "      <td>-111.1</td>\n",
       "      <td>-113.0</td>\n",
       "      <td>-112.4</td>\n",
       "      <td>-110.2</td>\n",
       "      <td>-117.1</td>\n",
       "      <td>-108.4</td>\n",
       "      <td>-113.9</td>\n",
       "      <td>-112.1</td>\n",
       "      <td>1</td>\n",
       "    </tr>\n",
       "  </tbody>\n",
       "</table>\n",
       "<p>5 rows × 258 columns</p>\n",
       "</div>"
      ],
      "text/plain": [
       "      1.0   2.0   3.0   4.0   5.0   6.0   7.0   8.0   9.0  10.0  ...    249.0  \\\n",
       "158 -73.8 -69.3 -72.0 -72.9 -52.7 -45.7 -39.9 -40.5 -44.1 -47.8  ...   -103.6   \n",
       "159 -67.6 -74.4 -65.4 -62.3 -63.8 -57.2 -41.9 -36.8 -43.5 -57.1  ...    -95.6   \n",
       "160 -67.9 -66.5 -71.4 -61.0 -64.7 -61.8 -49.6 -44.9 -44.4 -55.2  ...    -96.3   \n",
       "161 -81.8 -84.6 -71.3 -62.5 -63.2 -68.6 -55.3 -49.8 -53.0 -71.5  ...   -115.8   \n",
       "162 -89.8 -71.3 -64.1 -59.3 -61.6 -73.3 -72.5 -67.5 -64.9 -67.2  ...   -112.2   \n",
       "\n",
       "     250.0  251.0  252.0  253.0  254.0  255.0  256.0  257.0  label  \n",
       "158 -103.8 -105.0 -103.5 -104.0 -104.5 -104.1 -103.7 -103.5      1  \n",
       "159  -96.6  -96.8  -94.4  -95.8  -96.9  -95.2  -95.5  -96.5      1  \n",
       "160  -95.1  -96.5  -95.7  -96.0  -96.2  -95.7  -96.1  -95.8      1  \n",
       "161 -123.8 -117.5 -111.0 -120.0 -121.7 -117.5 -114.4 -126.8      1  \n",
       "162 -111.1 -113.0 -112.4 -110.2 -117.1 -108.4 -113.9 -112.1      1  \n",
       "\n",
       "[5 rows x 258 columns]"
      ]
     },
     "execution_count": 12,
     "metadata": {},
     "output_type": "execute_result"
    }
   ],
   "source": [
    "traindata.tail()"
   ]
  },
  {
   "cell_type": "code",
   "execution_count": 13,
   "metadata": {
    "collapsed": false
   },
   "outputs": [
    {
     "data": {
      "text/plain": [
       "(163, 258)"
      ]
     },
     "execution_count": 13,
     "metadata": {},
     "output_type": "execute_result"
    }
   ],
   "source": [
    "traindata.shape"
   ]
  },
  {
   "cell_type": "code",
   "execution_count": 56,
   "metadata": {
    "collapsed": true
   },
   "outputs": [],
   "source": [
    "from sklearn import tree\n",
    "from sklearn import svm"
   ]
  },
  {
   "cell_type": "code",
   "execution_count": 16,
   "metadata": {
    "collapsed": true
   },
   "outputs": [],
   "source": [
    "label = traindata['label']"
   ]
  },
  {
   "cell_type": "code",
   "execution_count": 18,
   "metadata": {
    "collapsed": false
   },
   "outputs": [
    {
     "data": {
      "text/plain": [
       "0    0\n",
       "1    0\n",
       "2    0\n",
       "3    0\n",
       "4    0\n",
       "Name: label, dtype: int64"
      ]
     },
     "execution_count": 18,
     "metadata": {},
     "output_type": "execute_result"
    }
   ],
   "source": [
    "label.head()"
   ]
  },
  {
   "cell_type": "code",
   "execution_count": 19,
   "metadata": {
    "collapsed": true
   },
   "outputs": [],
   "source": [
    "train1 = traindata.copy()"
   ]
  },
  {
   "cell_type": "code",
   "execution_count": 20,
   "metadata": {
    "collapsed": true
   },
   "outputs": [],
   "source": [
    "del train1['label']"
   ]
  },
  {
   "cell_type": "code",
   "execution_count": 21,
   "metadata": {
    "collapsed": false
   },
   "outputs": [
    {
     "data": {
      "text/html": [
       "<div>\n",
       "<table border=\"1\" class=\"dataframe\">\n",
       "  <thead>\n",
       "    <tr style=\"text-align: right;\">\n",
       "      <th></th>\n",
       "      <th>1.0</th>\n",
       "      <th>2.0</th>\n",
       "      <th>3.0</th>\n",
       "      <th>4.0</th>\n",
       "      <th>5.0</th>\n",
       "      <th>6.0</th>\n",
       "      <th>7.0</th>\n",
       "      <th>8.0</th>\n",
       "      <th>9.0</th>\n",
       "      <th>10.0</th>\n",
       "      <th>...</th>\n",
       "      <th>248.0</th>\n",
       "      <th>249.0</th>\n",
       "      <th>250.0</th>\n",
       "      <th>251.0</th>\n",
       "      <th>252.0</th>\n",
       "      <th>253.0</th>\n",
       "      <th>254.0</th>\n",
       "      <th>255.0</th>\n",
       "      <th>256.0</th>\n",
       "      <th>257.0</th>\n",
       "    </tr>\n",
       "  </thead>\n",
       "  <tbody>\n",
       "    <tr>\n",
       "      <th>0</th>\n",
       "      <td>-81.1</td>\n",
       "      <td>-76.8</td>\n",
       "      <td>-85.0</td>\n",
       "      <td>-78.8</td>\n",
       "      <td>-83.2</td>\n",
       "      <td>-84.7</td>\n",
       "      <td>-72.6</td>\n",
       "      <td>-78.5</td>\n",
       "      <td>-78.4</td>\n",
       "      <td>-72.6</td>\n",
       "      <td>...</td>\n",
       "      <td>-101.4</td>\n",
       "      <td>-90.9</td>\n",
       "      <td>-91.0</td>\n",
       "      <td>-97.3</td>\n",
       "      <td>-100.8</td>\n",
       "      <td>-102.0</td>\n",
       "      <td>-115.6</td>\n",
       "      <td>-101.2</td>\n",
       "      <td>-107.3</td>\n",
       "      <td>-109.1</td>\n",
       "    </tr>\n",
       "    <tr>\n",
       "      <th>1</th>\n",
       "      <td>-69.6</td>\n",
       "      <td>-64.0</td>\n",
       "      <td>-66.3</td>\n",
       "      <td>-65.9</td>\n",
       "      <td>-65.4</td>\n",
       "      <td>-64.9</td>\n",
       "      <td>-60.8</td>\n",
       "      <td>-70.9</td>\n",
       "      <td>-61.9</td>\n",
       "      <td>-67.0</td>\n",
       "      <td>...</td>\n",
       "      <td>-92.4</td>\n",
       "      <td>-90.3</td>\n",
       "      <td>-93.4</td>\n",
       "      <td>-86.7</td>\n",
       "      <td>-90.2</td>\n",
       "      <td>-90.2</td>\n",
       "      <td>-87.9</td>\n",
       "      <td>-93.1</td>\n",
       "      <td>-90.9</td>\n",
       "      <td>-88.4</td>\n",
       "    </tr>\n",
       "    <tr>\n",
       "      <th>2</th>\n",
       "      <td>-65.0</td>\n",
       "      <td>-61.9</td>\n",
       "      <td>-66.1</td>\n",
       "      <td>-66.9</td>\n",
       "      <td>-68.3</td>\n",
       "      <td>-33.4</td>\n",
       "      <td>-22.1</td>\n",
       "      <td>-26.1</td>\n",
       "      <td>-51.0</td>\n",
       "      <td>-75.7</td>\n",
       "      <td>...</td>\n",
       "      <td>-87.1</td>\n",
       "      <td>-89.8</td>\n",
       "      <td>-92.3</td>\n",
       "      <td>-90.4</td>\n",
       "      <td>-88.8</td>\n",
       "      <td>-86.0</td>\n",
       "      <td>-86.8</td>\n",
       "      <td>-90.1</td>\n",
       "      <td>-86.8</td>\n",
       "      <td>-99.8</td>\n",
       "    </tr>\n",
       "    <tr>\n",
       "      <th>3</th>\n",
       "      <td>-59.4</td>\n",
       "      <td>-74.8</td>\n",
       "      <td>-64.6</td>\n",
       "      <td>-66.4</td>\n",
       "      <td>-71.2</td>\n",
       "      <td>-32.1</td>\n",
       "      <td>-21.9</td>\n",
       "      <td>-26.8</td>\n",
       "      <td>-54.7</td>\n",
       "      <td>-79.1</td>\n",
       "      <td>...</td>\n",
       "      <td>-86.8</td>\n",
       "      <td>-86.2</td>\n",
       "      <td>-86.5</td>\n",
       "      <td>-86.4</td>\n",
       "      <td>-85.5</td>\n",
       "      <td>-86.8</td>\n",
       "      <td>-87.6</td>\n",
       "      <td>-85.2</td>\n",
       "      <td>-85.8</td>\n",
       "      <td>-90.2</td>\n",
       "    </tr>\n",
       "    <tr>\n",
       "      <th>4</th>\n",
       "      <td>-67.4</td>\n",
       "      <td>-71.6</td>\n",
       "      <td>-77.9</td>\n",
       "      <td>-82.3</td>\n",
       "      <td>-66.4</td>\n",
       "      <td>-33.3</td>\n",
       "      <td>-23.6</td>\n",
       "      <td>-28.7</td>\n",
       "      <td>-58.4</td>\n",
       "      <td>-76.9</td>\n",
       "      <td>...</td>\n",
       "      <td>-98.6</td>\n",
       "      <td>-103.3</td>\n",
       "      <td>-96.3</td>\n",
       "      <td>-94.4</td>\n",
       "      <td>-92.5</td>\n",
       "      <td>-94.4</td>\n",
       "      <td>-110.3</td>\n",
       "      <td>-100.1</td>\n",
       "      <td>-98.9</td>\n",
       "      <td>-104.0</td>\n",
       "    </tr>\n",
       "  </tbody>\n",
       "</table>\n",
       "<p>5 rows × 257 columns</p>\n",
       "</div>"
      ],
      "text/plain": [
       "    1.0   2.0   3.0   4.0   5.0   6.0   7.0   8.0   9.0  10.0  ...    248.0  \\\n",
       "0 -81.1 -76.8 -85.0 -78.8 -83.2 -84.7 -72.6 -78.5 -78.4 -72.6  ...   -101.4   \n",
       "1 -69.6 -64.0 -66.3 -65.9 -65.4 -64.9 -60.8 -70.9 -61.9 -67.0  ...    -92.4   \n",
       "2 -65.0 -61.9 -66.1 -66.9 -68.3 -33.4 -22.1 -26.1 -51.0 -75.7  ...    -87.1   \n",
       "3 -59.4 -74.8 -64.6 -66.4 -71.2 -32.1 -21.9 -26.8 -54.7 -79.1  ...    -86.8   \n",
       "4 -67.4 -71.6 -77.9 -82.3 -66.4 -33.3 -23.6 -28.7 -58.4 -76.9  ...    -98.6   \n",
       "\n",
       "   249.0  250.0  251.0  252.0  253.0  254.0  255.0  256.0  257.0  \n",
       "0  -90.9  -91.0  -97.3 -100.8 -102.0 -115.6 -101.2 -107.3 -109.1  \n",
       "1  -90.3  -93.4  -86.7  -90.2  -90.2  -87.9  -93.1  -90.9  -88.4  \n",
       "2  -89.8  -92.3  -90.4  -88.8  -86.0  -86.8  -90.1  -86.8  -99.8  \n",
       "3  -86.2  -86.5  -86.4  -85.5  -86.8  -87.6  -85.2  -85.8  -90.2  \n",
       "4 -103.3  -96.3  -94.4  -92.5  -94.4 -110.3 -100.1  -98.9 -104.0  \n",
       "\n",
       "[5 rows x 257 columns]"
      ]
     },
     "execution_count": 21,
     "metadata": {},
     "output_type": "execute_result"
    }
   ],
   "source": [
    "train1.head()"
   ]
  },
  {
   "cell_type": "code",
   "execution_count": 57,
   "metadata": {
    "collapsed": true
   },
   "outputs": [],
   "source": [
    "clf = svm.SVC()"
   ]
  },
  {
   "cell_type": "code",
   "execution_count": 71,
   "metadata": {
    "collapsed": false
   },
   "outputs": [],
   "source": [
    "clf = clf.fit(train1,label)"
   ]
  },
  {
   "cell_type": "code",
   "execution_count": 72,
   "metadata": {
    "collapsed": true
   },
   "outputs": [],
   "source": [
    "vtest = pd.read_csv('violin-test.csv')"
   ]
  },
  {
   "cell_type": "code",
   "execution_count": 82,
   "metadata": {
    "collapsed": false
   },
   "outputs": [
    {
     "data": {
      "text/plain": [
       "<matplotlib.axes._subplots.AxesSubplot at 0x10e58f4d0>"
      ]
     },
     "execution_count": 82,
     "metadata": {},
     "output_type": "execute_result"
    },
    {
     "data": {
      "image/png": "[encoded data removed]",
      "text/plain": [
       "<matplotlib.figure.Figure at 0x10edc0b50>"
      ]
     },
     "metadata": {},
     "output_type": "display_data"
    }
   ],
   "source": [
    "vtest.loc[[12,8]].T.plot()"
   ]
  },
  {
   "cell_type": "code",
   "execution_count": 74,
   "metadata": {
    "collapsed": false
   },
   "outputs": [],
   "source": [
    "result = clf.predict(vtest)"
   ]
  },
  {
   "cell_type": "code",
   "execution_count": 79,
   "metadata": {
    "collapsed": false
   },
   "outputs": [
    {
     "data": {
      "text/plain": [
       "array([0, 0, 0, 0, 0, 0, 0, 0, 0, 0, 0, 0, 0, 0, 0, 0, 0, 0, 0, 0, 0, 0, 0,\n",
       "       0, 0, 0, 0, 0])"
      ]
     },
     "execution_count": 79,
     "metadata": {},
     "output_type": "execute_result"
    }
   ],
   "source": [
    "result"
   ]
  },
  {
   "cell_type": "code",
   "execution_count": 75,
   "metadata": {
    "collapsed": false
   },
   "outputs": [
    {
     "data": {
      "text/plain": [
       "0.0"
      ]
     },
     "execution_count": 75,
     "metadata": {},
     "output_type": "execute_result"
    }
   ],
   "source": [
    "round(sum(result==1)/float(result.size),3)"
   ]
  },
  {
   "cell_type": "code",
   "execution_count": 76,
   "metadata": {
    "collapsed": true
   },
   "outputs": [],
   "source": [
    "ftest = pd.read_csv('flute-test.csv')"
   ]
  },
  {
   "cell_type": "code",
   "execution_count": 77,
   "metadata": {
    "collapsed": true
   },
   "outputs": [],
   "source": [
    "result1 = clf.predict(ftest)"
   ]
  },
  {
   "cell_type": "code",
   "execution_count": 80,
   "metadata": {
    "collapsed": false
   },
   "outputs": [
    {
     "data": {
      "text/plain": [
       "1.0"
      ]
     },
     "execution_count": 80,
     "metadata": {},
     "output_type": "execute_result"
    }
   ],
   "source": [
    "round(sum(result1==0)/float(result1.size),3)"
   ]
  },
  {
   "cell_type": "code",
   "execution_count": null,
   "metadata": {
    "collapsed": true
   },
   "outputs": [],
   "source": []
  }
 ],
 "metadata": {
  "kernelspec": {
   "display_name": "Python 2",
   "language": "python",
   "name": "python2"
  },
  "language_info": {
   "codemirror_mode": {
    "name": "ipython",
    "version": 2
   },
   "file_extension": ".py",
   "mimetype": "text/x-python",
   "name": "python",
   "nbconvert_exporter": "python",
   "pygments_lexer": "ipython2",
   "version": "2.7.11"
  }
 },
 "nbformat": 4,
 "nbformat_minor": 0
}
